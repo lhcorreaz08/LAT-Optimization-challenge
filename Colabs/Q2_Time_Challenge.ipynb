{
  "nbformat": 4,
  "nbformat_minor": 0,
  "metadata": {
    "colab": {
      "provenance": []
    },
    "kernelspec": {
      "name": "python3",
      "display_name": "Python 3"
    },
    "language_info": {
      "name": "python"
    }
  },
  "cells": [
    {
      "cell_type": "markdown",
      "source": [
        "## Instalación de dependencias"
      ],
      "metadata": {
        "id": "bWoIxK2QLjli"
      }
    },
    {
      "cell_type": "code",
      "source": [
        "# Instala memory-profiler en Colab\n",
        "%pip install memory-profiler\n",
        "\n",
        "# Necesario para mostrar el gráfico de uso de memoria en Colab\n",
        "%pip install matplotlib\n",
        "\n",
        "%pip install memory_profiler\n",
        "\n",
        "%pip install emoji\n",
        "\n",
        "# Preparación del archivo como antes\n",
        "%pip install gdown\n",
        "url = 'https://drive.google.com/uc?id=1ig2ngoXFTxP5Pa8muXo02mDTFexZzsis'\n",
        "!gdown \"$url\" -O \"archivo.zip\"\n",
        "!unzip -o \"archivo.zip\" -d \"./\""
      ],
      "metadata": {
        "id": "MYVoy4XRS_yu",
        "colab": {
          "base_uri": "https://localhost:8080/"
        },
        "outputId": "0a1c4af5-d04d-40af-d9ff-bb556eb2aa9e"
      },
      "execution_count": 3,
      "outputs": [
        {
          "output_type": "stream",
          "name": "stdout",
          "text": [
            "Requirement already satisfied: memory-profiler in /usr/local/lib/python3.10/dist-packages (0.61.0)\n",
            "Requirement already satisfied: psutil in /usr/local/lib/python3.10/dist-packages (from memory-profiler) (5.9.5)\n",
            "Requirement already satisfied: matplotlib in /usr/local/lib/python3.10/dist-packages (3.7.1)\n",
            "Requirement already satisfied: contourpy>=1.0.1 in /usr/local/lib/python3.10/dist-packages (from matplotlib) (1.2.0)\n",
            "Requirement already satisfied: cycler>=0.10 in /usr/local/lib/python3.10/dist-packages (from matplotlib) (0.12.1)\n",
            "Requirement already satisfied: fonttools>=4.22.0 in /usr/local/lib/python3.10/dist-packages (from matplotlib) (4.49.0)\n",
            "Requirement already satisfied: kiwisolver>=1.0.1 in /usr/local/lib/python3.10/dist-packages (from matplotlib) (1.4.5)\n",
            "Requirement already satisfied: numpy>=1.20 in /usr/local/lib/python3.10/dist-packages (from matplotlib) (1.25.2)\n",
            "Requirement already satisfied: packaging>=20.0 in /usr/local/lib/python3.10/dist-packages (from matplotlib) (24.0)\n",
            "Requirement already satisfied: pillow>=6.2.0 in /usr/local/lib/python3.10/dist-packages (from matplotlib) (9.4.0)\n",
            "Requirement already satisfied: pyparsing>=2.3.1 in /usr/local/lib/python3.10/dist-packages (from matplotlib) (3.1.2)\n",
            "Requirement already satisfied: python-dateutil>=2.7 in /usr/local/lib/python3.10/dist-packages (from matplotlib) (2.8.2)\n",
            "Requirement already satisfied: six>=1.5 in /usr/local/lib/python3.10/dist-packages (from python-dateutil>=2.7->matplotlib) (1.16.0)\n",
            "Requirement already satisfied: memory_profiler in /usr/local/lib/python3.10/dist-packages (0.61.0)\n",
            "Requirement already satisfied: psutil in /usr/local/lib/python3.10/dist-packages (from memory_profiler) (5.9.5)\n",
            "Collecting emoji\n",
            "  Downloading emoji-2.10.1-py2.py3-none-any.whl (421 kB)\n",
            "\u001b[2K     \u001b[90m━━━━━━━━━━━━━━━━━━━━━━━━━━━━━━━━━━━━━━━━\u001b[0m \u001b[32m421.5/421.5 kB\u001b[0m \u001b[31m3.0 MB/s\u001b[0m eta \u001b[36m0:00:00\u001b[0m\n",
            "\u001b[?25hInstalling collected packages: emoji\n",
            "Successfully installed emoji-2.10.1\n",
            "Requirement already satisfied: gdown in /usr/local/lib/python3.10/dist-packages (4.7.3)\n",
            "Requirement already satisfied: filelock in /usr/local/lib/python3.10/dist-packages (from gdown) (3.13.1)\n",
            "Requirement already satisfied: requests[socks] in /usr/local/lib/python3.10/dist-packages (from gdown) (2.31.0)\n",
            "Requirement already satisfied: six in /usr/local/lib/python3.10/dist-packages (from gdown) (1.16.0)\n",
            "Requirement already satisfied: tqdm in /usr/local/lib/python3.10/dist-packages (from gdown) (4.66.2)\n",
            "Requirement already satisfied: beautifulsoup4 in /usr/local/lib/python3.10/dist-packages (from gdown) (4.12.3)\n",
            "Requirement already satisfied: soupsieve>1.2 in /usr/local/lib/python3.10/dist-packages (from beautifulsoup4->gdown) (2.5)\n",
            "Requirement already satisfied: charset-normalizer<4,>=2 in /usr/local/lib/python3.10/dist-packages (from requests[socks]->gdown) (3.3.2)\n",
            "Requirement already satisfied: idna<4,>=2.5 in /usr/local/lib/python3.10/dist-packages (from requests[socks]->gdown) (3.6)\n",
            "Requirement already satisfied: urllib3<3,>=1.21.1 in /usr/local/lib/python3.10/dist-packages (from requests[socks]->gdown) (2.0.7)\n",
            "Requirement already satisfied: certifi>=2017.4.17 in /usr/local/lib/python3.10/dist-packages (from requests[socks]->gdown) (2024.2.2)\n",
            "Requirement already satisfied: PySocks!=1.5.7,>=1.5.6 in /usr/local/lib/python3.10/dist-packages (from requests[socks]->gdown) (1.7.1)\n",
            "Downloading...\n",
            "From (original): https://drive.google.com/uc?id=1ig2ngoXFTxP5Pa8muXo02mDTFexZzsis\n",
            "From (redirected): https://drive.google.com/uc?id=1ig2ngoXFTxP5Pa8muXo02mDTFexZzsis&confirm=t&uuid=c35fe96b-d3c2-47b7-9180-6db6daeb9503\n",
            "To: /content/archivo.zip\n",
            "100% 60.4M/60.4M [00:00<00:00, 175MB/s]\n",
            "Archive:  archivo.zip\n",
            "  inflating: ./farmers-protest-tweets-2021-2-4.json  \n"
          ]
        }
      ]
    },
    {
      "cell_type": "markdown",
      "source": [
        "## Implementación de la función Q1 Time"
      ],
      "metadata": {
        "id": "LsjvuA5uLxXp"
      }
    },
    {
      "cell_type": "code",
      "source": [
        "import emoji\n",
        "import json\n",
        "from collections import Counter\n",
        "from typing import List, Tuple\n",
        "\n",
        "# Función Map: Procesa cada línea (tweet) para encontrar emojis\n",
        "def map_function(line):\n",
        "    try:\n",
        "        tweet = json.loads(line)\n",
        "        emojis_found = emoji.emoji_list(tweet['content'])\n",
        "        return [item['emoji'] for item in emojis_found]\n",
        "    except json.JSONDecodeError:\n",
        "        return []\n",
        "\n",
        "# Función Shuffle: Organiza los emojis encontrados para su procesamiento en el Reduce\n",
        "def shuffle_and_sort(mapped_values):\n",
        "    all_emojis = []\n",
        "    for emoji_list in mapped_values:\n",
        "        all_emojis.extend(emoji_list)\n",
        "    return Counter(all_emojis)\n",
        "\n",
        "# Función Reduce: Agrega los conteos de cada emoji\n",
        "def reduce_function(shuffled_data):\n",
        "    return shuffled_data.most_common(10)\n",
        "\n",
        "def q2_time(file_path: str) -> List[Tuple[str, int]]:\n",
        "    mapped_values = []\n",
        "\n",
        "    with open(file_path, 'r', encoding='utf-8') as file:\n",
        "        for line in file:\n",
        "            mapped_values.extend(map_function(line))\n",
        "\n",
        "    shuffled_data = shuffle_and_sort(mapped_values)\n",
        "    reduced_data = reduce_function(shuffled_data)\n",
        "\n",
        "    # Ya no escribe en un archivo, sino que retorna los datos directamente\n",
        "    return reduced_data\n",
        "\n",
        "# Llamar a la función principal para ejecutar el MapReduce y obtener el resultado\n",
        "file_path = './farmers-protest-tweets-2021-2-4.json'\n",
        "result = q2_time(file_path)\n",
        "print(result)"
      ],
      "metadata": {
        "colab": {
          "base_uri": "https://localhost:8080/"
        },
        "id": "_Mjh5-rUexsT",
        "outputId": "b028b7d8-7a1d-4068-9e91-9b2c6838d8f7"
      },
      "execution_count": 15,
      "outputs": [
        {
          "output_type": "stream",
          "name": "stdout",
          "text": [
            "[('🙏', 7286), ('😂', 3072), ('️', 2985), ('🚜', 2972), ('✊', 2411), ('🌾', 2363), ('🇮', 2096), ('🇳', 2094), ('🏻', 2080), ('❤', 1779)]\n"
          ]
        }
      ]
    },
    {
      "cell_type": "markdown",
      "source": [
        "# Medición del consumo de memoria y tiempo de ejecución de la función Q1 Time\n"
      ],
      "metadata": {
        "id": "z_IuWaqvL8nx"
      }
    },
    {
      "cell_type": "markdown",
      "source": [
        "Resultado de medición expuesto por medio de un archivo jpg"
      ],
      "metadata": {
        "id": "8oX121XvMVVC"
      }
    },
    {
      "cell_type": "code",
      "source": [
        "import json\n",
        "from collections import defaultdict, Counter\n",
        "from datetime import datetime\n",
        "import cProfile, pstats\n",
        "from memory_profiler import memory_usage\n",
        "import matplotlib.pyplot as plt\n",
        "import emoji\n",
        "import json\n",
        "from collections import Counter\n",
        "from typing import List, Tuple\n",
        "\n",
        "# Función Map: Procesa cada línea (tweet) para encontrar emojis\n",
        "def map_function(line):\n",
        "    try:\n",
        "        tweet = json.loads(line)\n",
        "        emojis_found = emoji.emoji_list(tweet['content'])\n",
        "        return [item['emoji'] for item in emojis_found]\n",
        "    except json.JSONDecodeError:\n",
        "        return []\n",
        "\n",
        "# Función Shuffle: Organiza los emojis encontrados para su procesamiento en el Reduce\n",
        "def shuffle_and_sort(mapped_values):\n",
        "    all_emojis = []\n",
        "    for emoji_list in mapped_values:\n",
        "        all_emojis.extend(emoji_list)\n",
        "    return Counter(all_emojis)\n",
        "\n",
        "# Función Reduce: Agrega los conteos de cada emoji\n",
        "def reduce_function(shuffled_data):\n",
        "    return shuffled_data.most_common(10)\n",
        "\n",
        "def q2_time(file_path: str) -> List[Tuple[str, int]]:\n",
        "    mapped_values = []\n",
        "\n",
        "    with open(file_path, 'r', encoding='utf-8') as file:\n",
        "        for line in file:\n",
        "            mapped_values.extend(map_function(line))\n",
        "\n",
        "    shuffled_data = shuffle_and_sort(mapped_values)\n",
        "    reduced_data = reduce_function(shuffled_data)\n",
        "\n",
        "    # Ya no escribe en un archivo, sino que retorna los datos directamente\n",
        "    return reduced_data\n",
        "\n",
        "\n",
        "def profile_memory_and_cpu():\n",
        "    archivo_json = './farmers-protest-tweets-2021-2-4.json'\n",
        "\n",
        "    # Profile de memoria\n",
        "    mem_usage = memory_usage((q2_time, (archivo_json,)), interval=0.1)\n",
        "\n",
        "    # Profile de tiempo de CPU\n",
        "    profiler = cProfile.Profile()\n",
        "    profiler.enable()\n",
        "    q2_time(archivo_json)\n",
        "    profiler.disable()\n",
        "    stats = pstats.Stats(profiler).sort_stats('cumtime')\n",
        "    stats.print_stats()\n",
        "\n",
        "    # Plot de uso de memoria y guardar en archivo .jpg\n",
        "    plt.figure(figsize=(10, 6))\n",
        "    plt.plot(mem_usage)\n",
        "    plt.title('Uso de memoria a lo largo del tiempo')\n",
        "    plt.xlabel('Tiempo (en intervalos de 0.1s)')\n",
        "    plt.ylabel('Memoria usada (MB)')\n",
        "    plt.savefig('q2_memory_resources_map_reduce.jpg')\n",
        "    plt.close()\n",
        "\n",
        "profile_memory_and_cpu()"
      ],
      "metadata": {
        "colab": {
          "base_uri": "https://localhost:8080/"
        },
        "id": "kT-jh9Y6HsQ3",
        "outputId": "0d7f1699-0e22-4548-a96e-d8a829e04a5d"
      },
      "execution_count": 14,
      "outputs": [
        {
          "output_type": "stream",
          "name": "stdout",
          "text": [
            "         87415255 function calls in 34.818 seconds\n",
            "\n",
            "   Ordered by: cumulative time\n",
            "\n",
            "   ncalls  tottime  percall  cumtime  percall filename:lineno(function)\n",
            "        1    1.561    1.561   34.818   34.818 <ipython-input-14-d02ba7bfd7b3>:32(q2_time)\n",
            "   117407    0.204    0.000   33.073    0.000 <ipython-input-14-d02ba7bfd7b3>:13(map_function)\n",
            "   117407    0.094    0.000   29.514    0.000 /usr/local/lib/python3.10/dist-packages/emoji/core.py:283(emoji_list)\n",
            "   117407    6.952    0.000   29.419    0.000 /usr/local/lib/python3.10/dist-packages/emoji/core.py:290(<listcomp>)\n",
            " 17140706   14.149    0.000   20.902    0.000 /usr/local/lib/python3.10/dist-packages/emoji/tokenizer.py:158(tokenize)\n",
            " 17023302    3.225    0.000    5.522    0.000 <string>:1(<lambda>)\n",
            "   117407    0.156    0.000    3.330    0.000 /usr/lib/python3.10/json/__init__.py:299(loads)\n",
            "   117407    0.238    0.000    3.122    0.000 /usr/lib/python3.10/json/decoder.py:332(decode)\n",
            "   117407    2.709    0.000    2.709    0.000 /usr/lib/python3.10/json/decoder.py:343(raw_decode)\n",
            " 17023302    2.297    0.000    2.297    0.000 {built-in method __new__ of type object at 0x593fd78769a0}\n",
            " 17140707    1.578    0.000    1.578    0.000 {built-in method builtins.isinstance}\n",
            " 17023305    1.175    0.000    1.175    0.000 {method 'append' of 'list' objects}\n",
            "    49772    0.071    0.000    0.157    0.000 /usr/lib/python3.10/codecs.py:319(decode)\n",
            "   234814    0.129    0.000    0.129    0.000 {method 'match' of 're.Pattern' objects}\n",
            "    49772    0.086    0.000    0.086    0.000 {built-in method _codecs.utf_8_decode}\n",
            "   117407    0.038    0.000    0.038    0.000 {method 'startswith' of 'str' objects}\n",
            "   234814    0.032    0.000    0.032    0.000 {method 'end' of 're.Match' objects}\n",
            "   234818    0.028    0.000    0.028    0.000 {built-in method builtins.len}\n",
            "   117407    0.027    0.000    0.027    0.000 <ipython-input-14-d02ba7bfd7b3>:17(<listcomp>)\n",
            "   117407    0.026    0.000    0.026    0.000 /usr/local/lib/python3.10/dist-packages/emoji/tokenizer.py:301(get_search_tree)\n",
            "   160329    0.018    0.000    0.018    0.000 {method 'extend' of 'list' objects}\n",
            "    42922    0.018    0.000    0.018    0.000 /usr/local/lib/python3.10/dist-packages/emoji/tokenizer.py:29(__init__)\n",
            "        1    0.006    0.006    0.014    0.014 <ipython-input-14-d02ba7bfd7b3>:22(shuffle_and_sort)\n",
            "        1    0.000    0.000    0.003    0.003 /usr/lib/python3.10/collections/__init__.py:565(__init__)\n",
            "        1    0.000    0.000    0.003    0.003 /usr/lib/python3.10/collections/__init__.py:640(update)\n",
            "        1    0.003    0.003    0.003    0.003 {built-in method _collections._count_elements}\n",
            "        1    0.000    0.000    0.000    0.000 <ipython-input-14-d02ba7bfd7b3>:29(reduce_function)\n",
            "        1    0.000    0.000    0.000    0.000 /usr/lib/python3.10/collections/__init__.py:588(most_common)\n",
            "        1    0.000    0.000    0.000    0.000 /usr/lib/python3.10/heapq.py:521(nlargest)\n",
            "        1    0.000    0.000    0.000    0.000 {built-in method io.open}\n",
            "        1    0.000    0.000    0.000    0.000 {method '__exit__' of '_io._IOBase' objects}\n",
            "        1    0.000    0.000    0.000    0.000 /usr/lib/python3.10/abc.py:117(__instancecheck__)\n",
            "        1    0.000    0.000    0.000    0.000 /usr/lib/python3.10/heapq.py:563(<listcomp>)\n",
            "        1    0.000    0.000    0.000    0.000 {built-in method _abc._abc_instancecheck}\n",
            "        1    0.000    0.000    0.000    0.000 /usr/lib/python3.10/codecs.py:309(__init__)\n",
            "        1    0.000    0.000    0.000    0.000 {method 'sort' of 'list' objects}\n",
            "        1    0.000    0.000    0.000    0.000 {built-in method _heapq.heapify}\n",
            "        8    0.000    0.000    0.000    0.000 {built-in method _heapq.heapreplace}\n",
            "        1    0.000    0.000    0.000    0.000 /usr/lib/python3.10/heapq.py:577(<listcomp>)\n",
            "        1    0.000    0.000    0.000    0.000 /usr/lib/python3.10/codecs.py:260(__init__)\n",
            "        1    0.000    0.000    0.000    0.000 {method 'disable' of '_lsprof.Profiler' objects}\n",
            "        1    0.000    0.000    0.000    0.000 {method 'items' of 'dict' objects}\n",
            "        1    0.000    0.000    0.000    0.000 {built-in method builtins.iter}\n",
            "\n",
            "\n"
          ]
        }
      ]
    }
  ]
}
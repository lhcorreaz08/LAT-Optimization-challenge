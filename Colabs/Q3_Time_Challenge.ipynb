{
  "nbformat": 4,
  "nbformat_minor": 0,
  "metadata": {
    "colab": {
      "provenance": []
    },
    "kernelspec": {
      "name": "python3",
      "display_name": "Python 3"
    },
    "language_info": {
      "name": "python"
    }
  },
  "cells": [
    {
      "cell_type": "markdown",
      "source": [
        "## Instalación de dependencias"
      ],
      "metadata": {
        "id": "bWoIxK2QLjli"
      }
    },
    {
      "cell_type": "code",
      "source": [
        "# Instala memory-profiler en Colab\n",
        "%pip install memory-profiler\n",
        "\n",
        "# Necesario para mostrar el gráfico de uso de memoria en Colab\n",
        "%pip install matplotlib\n",
        "\n",
        "%pip install memory_profiler\n",
        "\n",
        "# Preparación del archivo como antes\n",
        "%pip install gdown\n",
        "url = 'https://drive.google.com/uc?id=1ig2ngoXFTxP5Pa8muXo02mDTFexZzsis'\n",
        "!gdown \"$url\" -O \"archivo.zip\"\n",
        "!unzip -o \"archivo.zip\" -d \"./\""
      ],
      "metadata": {
        "id": "MYVoy4XRS_yu",
        "colab": {
          "base_uri": "https://localhost:8080/"
        },
        "outputId": "86c4344b-c644-412c-871d-8ff97a2f5cd0"
      },
      "execution_count": 1,
      "outputs": [
        {
          "output_type": "stream",
          "name": "stdout",
          "text": [
            "Collecting memory-profiler\n",
            "  Downloading memory_profiler-0.61.0-py3-none-any.whl (31 kB)\n",
            "Requirement already satisfied: psutil in /usr/local/lib/python3.10/dist-packages (from memory-profiler) (5.9.5)\n",
            "Installing collected packages: memory-profiler\n",
            "Successfully installed memory-profiler-0.61.0\n",
            "Requirement already satisfied: matplotlib in /usr/local/lib/python3.10/dist-packages (3.7.1)\n",
            "Requirement already satisfied: contourpy>=1.0.1 in /usr/local/lib/python3.10/dist-packages (from matplotlib) (1.2.0)\n",
            "Requirement already satisfied: cycler>=0.10 in /usr/local/lib/python3.10/dist-packages (from matplotlib) (0.12.1)\n",
            "Requirement already satisfied: fonttools>=4.22.0 in /usr/local/lib/python3.10/dist-packages (from matplotlib) (4.49.0)\n",
            "Requirement already satisfied: kiwisolver>=1.0.1 in /usr/local/lib/python3.10/dist-packages (from matplotlib) (1.4.5)\n",
            "Requirement already satisfied: numpy>=1.20 in /usr/local/lib/python3.10/dist-packages (from matplotlib) (1.25.2)\n",
            "Requirement already satisfied: packaging>=20.0 in /usr/local/lib/python3.10/dist-packages (from matplotlib) (24.0)\n",
            "Requirement already satisfied: pillow>=6.2.0 in /usr/local/lib/python3.10/dist-packages (from matplotlib) (9.4.0)\n",
            "Requirement already satisfied: pyparsing>=2.3.1 in /usr/local/lib/python3.10/dist-packages (from matplotlib) (3.1.2)\n",
            "Requirement already satisfied: python-dateutil>=2.7 in /usr/local/lib/python3.10/dist-packages (from matplotlib) (2.8.2)\n",
            "Requirement already satisfied: six>=1.5 in /usr/local/lib/python3.10/dist-packages (from python-dateutil>=2.7->matplotlib) (1.16.0)\n",
            "Requirement already satisfied: memory_profiler in /usr/local/lib/python3.10/dist-packages (0.61.0)\n",
            "Requirement already satisfied: psutil in /usr/local/lib/python3.10/dist-packages (from memory_profiler) (5.9.5)\n",
            "Requirement already satisfied: gdown in /usr/local/lib/python3.10/dist-packages (4.7.3)\n",
            "Requirement already satisfied: filelock in /usr/local/lib/python3.10/dist-packages (from gdown) (3.13.1)\n",
            "Requirement already satisfied: requests[socks] in /usr/local/lib/python3.10/dist-packages (from gdown) (2.31.0)\n",
            "Requirement already satisfied: six in /usr/local/lib/python3.10/dist-packages (from gdown) (1.16.0)\n",
            "Requirement already satisfied: tqdm in /usr/local/lib/python3.10/dist-packages (from gdown) (4.66.2)\n",
            "Requirement already satisfied: beautifulsoup4 in /usr/local/lib/python3.10/dist-packages (from gdown) (4.12.3)\n",
            "Requirement already satisfied: soupsieve>1.2 in /usr/local/lib/python3.10/dist-packages (from beautifulsoup4->gdown) (2.5)\n",
            "Requirement already satisfied: charset-normalizer<4,>=2 in /usr/local/lib/python3.10/dist-packages (from requests[socks]->gdown) (3.3.2)\n",
            "Requirement already satisfied: idna<4,>=2.5 in /usr/local/lib/python3.10/dist-packages (from requests[socks]->gdown) (3.6)\n",
            "Requirement already satisfied: urllib3<3,>=1.21.1 in /usr/local/lib/python3.10/dist-packages (from requests[socks]->gdown) (2.0.7)\n",
            "Requirement already satisfied: certifi>=2017.4.17 in /usr/local/lib/python3.10/dist-packages (from requests[socks]->gdown) (2024.2.2)\n",
            "Requirement already satisfied: PySocks!=1.5.7,>=1.5.6 in /usr/local/lib/python3.10/dist-packages (from requests[socks]->gdown) (1.7.1)\n",
            "Downloading...\n",
            "From (original): https://drive.google.com/uc?id=1ig2ngoXFTxP5Pa8muXo02mDTFexZzsis\n",
            "From (redirected): https://drive.google.com/uc?id=1ig2ngoXFTxP5Pa8muXo02mDTFexZzsis&confirm=t&uuid=9e30b6cf-22a3-4c07-8551-7b89689acb95\n",
            "To: /content/archivo.zip\n",
            "100% 60.4M/60.4M [00:00<00:00, 122MB/s]\n",
            "Archive:  archivo.zip\n",
            "  inflating: ./farmers-protest-tweets-2021-2-4.json  \n"
          ]
        }
      ]
    },
    {
      "cell_type": "markdown",
      "source": [
        "## Implementación de la función Q3 Time\n",
        "\n",
        "---\n",
        "\n"
      ],
      "metadata": {
        "id": "LsjvuA5uLxXp"
      }
    },
    {
      "cell_type": "code",
      "source": [
        "import json\n",
        "import re\n",
        "from collections import Counter\n",
        "from typing import List, Tuple\n",
        "\n",
        "def map_mentions(file_path: str) -> List[Tuple[str, int]]:\n",
        "    user_mentions_counter = Counter()\n",
        "\n",
        "    with open(file_path, 'r', encoding='utf-8') as file:\n",
        "        for linea in file:\n",
        "            try:\n",
        "                tweet = json.loads(linea)\n",
        "                user_mentions = re.findall(r'@(\\w+)', tweet['content'])\n",
        "                user_mentions_counter.update(user_mentions)\n",
        "            except json.JSONDecodeError as e:\n",
        "                print(f\"Error decodificando JSON: {e}\")\n",
        "\n",
        "    return user_mentions_counter.items()\n",
        "\n",
        "def reduce_mentions(mapped_mentions: List[Tuple[str, int]]) -> List[Tuple[str, int]]:\n",
        "    # Reducir los recuentos sumando los valores para cada usuario\n",
        "    user_mentions_counter = Counter()\n",
        "    for user, count in mapped_mentions:\n",
        "        user_mentions_counter[user] += count\n",
        "\n",
        "    # Obtener los top 10 usuarios más mencionados\n",
        "    top_user_mentions = user_mentions_counter.most_common(10)\n",
        "\n",
        "    return top_user_mentions\n",
        "\n",
        "def q3_time(file_path: str) -> List[Tuple[str, int]]:\n",
        "    mapped_mentions = map_mentions(file_path)\n",
        "    top_user_mentions = reduce_mentions(mapped_mentions)\n",
        "\n",
        "    # Adaptar la estructura de salida\n",
        "    adapted_output = [(user, count) for user, count in top_user_mentions]\n",
        "\n",
        "    return adapted_output\n",
        "\n",
        "# Ejemplo de uso\n",
        "result = q3_time('farmers-protest-tweets-2021-2-4.json')\n",
        "print(result)"
      ],
      "metadata": {
        "colab": {
          "base_uri": "https://localhost:8080/"
        },
        "id": "_-WhIZvBDG5H",
        "outputId": "ab709eed-526e-482d-d9e8-1b1e52e06f42"
      },
      "execution_count": 7,
      "outputs": [
        {
          "output_type": "stream",
          "name": "stdout",
          "text": [
            "[('narendramodi', 2261), ('Kisanektamorcha', 1836), ('RakeshTikaitBKU', 1639), ('PMOIndia', 1422), ('RahulGandhi', 1125), ('GretaThunberg', 1046), ('RaviSinghKA', 1015), ('rihanna', 972), ('UNHumanRights', 962), ('meenaharris', 925)]\n"
          ]
        }
      ]
    }
  ]
}
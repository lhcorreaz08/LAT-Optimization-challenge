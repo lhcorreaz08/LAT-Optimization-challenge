{
  "nbformat": 4,
  "nbformat_minor": 0,
  "metadata": {
    "colab": {
      "provenance": []
    },
    "kernelspec": {
      "name": "python3",
      "display_name": "Python 3"
    },
    "language_info": {
      "name": "python"
    }
  },
  "cells": [
    {
      "cell_type": "markdown",
      "source": [
        "## Instalación de dependencias"
      ],
      "metadata": {
        "id": "bWoIxK2QLjli"
      }
    },
    {
      "cell_type": "code",
      "source": [
        "# Instala memory-profiler en Colab\n",
        "%pip install memory-profiler\n",
        "\n",
        "# Necesario para mostrar el gráfico de uso de memoria en Colab\n",
        "%pip install matplotlib\n",
        "\n",
        "%pip install memory_profiler\n",
        "\n",
        "# Preparación del archivo como antes\n",
        "%pip install gdown\n",
        "url = 'https://drive.google.com/uc?id=1ig2ngoXFTxP5Pa8muXo02mDTFexZzsis'\n",
        "!gdown \"$url\" -O \"archivo.zip\"\n",
        "!unzip -o \"archivo.zip\" -d \"./\""
      ],
      "metadata": {
        "id": "MYVoy4XRS_yu",
        "colab": {
          "base_uri": "https://localhost:8080/"
        },
        "outputId": "dca11eb1-6765-4fb3-f7fc-df5e127ca6c1"
      },
      "execution_count": 1,
      "outputs": [
        {
          "output_type": "stream",
          "name": "stdout",
          "text": [
            "Collecting memory-profiler\n",
            "  Downloading memory_profiler-0.61.0-py3-none-any.whl (31 kB)\n",
            "Requirement already satisfied: psutil in /usr/local/lib/python3.10/dist-packages (from memory-profiler) (5.9.5)\n",
            "Installing collected packages: memory-profiler\n",
            "Successfully installed memory-profiler-0.61.0\n",
            "Requirement already satisfied: matplotlib in /usr/local/lib/python3.10/dist-packages (3.7.1)\n",
            "Requirement already satisfied: contourpy>=1.0.1 in /usr/local/lib/python3.10/dist-packages (from matplotlib) (1.2.0)\n",
            "Requirement already satisfied: cycler>=0.10 in /usr/local/lib/python3.10/dist-packages (from matplotlib) (0.12.1)\n",
            "Requirement already satisfied: fonttools>=4.22.0 in /usr/local/lib/python3.10/dist-packages (from matplotlib) (4.49.0)\n",
            "Requirement already satisfied: kiwisolver>=1.0.1 in /usr/local/lib/python3.10/dist-packages (from matplotlib) (1.4.5)\n",
            "Requirement already satisfied: numpy>=1.20 in /usr/local/lib/python3.10/dist-packages (from matplotlib) (1.25.2)\n",
            "Requirement already satisfied: packaging>=20.0 in /usr/local/lib/python3.10/dist-packages (from matplotlib) (24.0)\n",
            "Requirement already satisfied: pillow>=6.2.0 in /usr/local/lib/python3.10/dist-packages (from matplotlib) (9.4.0)\n",
            "Requirement already satisfied: pyparsing>=2.3.1 in /usr/local/lib/python3.10/dist-packages (from matplotlib) (3.1.2)\n",
            "Requirement already satisfied: python-dateutil>=2.7 in /usr/local/lib/python3.10/dist-packages (from matplotlib) (2.8.2)\n",
            "Requirement already satisfied: six>=1.5 in /usr/local/lib/python3.10/dist-packages (from python-dateutil>=2.7->matplotlib) (1.16.0)\n",
            "Requirement already satisfied: memory_profiler in /usr/local/lib/python3.10/dist-packages (0.61.0)\n",
            "Requirement already satisfied: psutil in /usr/local/lib/python3.10/dist-packages (from memory_profiler) (5.9.5)\n",
            "Requirement already satisfied: gdown in /usr/local/lib/python3.10/dist-packages (4.7.3)\n",
            "Requirement already satisfied: filelock in /usr/local/lib/python3.10/dist-packages (from gdown) (3.13.1)\n",
            "Requirement already satisfied: requests[socks] in /usr/local/lib/python3.10/dist-packages (from gdown) (2.31.0)\n",
            "Requirement already satisfied: six in /usr/local/lib/python3.10/dist-packages (from gdown) (1.16.0)\n",
            "Requirement already satisfied: tqdm in /usr/local/lib/python3.10/dist-packages (from gdown) (4.66.2)\n",
            "Requirement already satisfied: beautifulsoup4 in /usr/local/lib/python3.10/dist-packages (from gdown) (4.12.3)\n",
            "Requirement already satisfied: soupsieve>1.2 in /usr/local/lib/python3.10/dist-packages (from beautifulsoup4->gdown) (2.5)\n",
            "Requirement already satisfied: charset-normalizer<4,>=2 in /usr/local/lib/python3.10/dist-packages (from requests[socks]->gdown) (3.3.2)\n",
            "Requirement already satisfied: idna<4,>=2.5 in /usr/local/lib/python3.10/dist-packages (from requests[socks]->gdown) (3.6)\n",
            "Requirement already satisfied: urllib3<3,>=1.21.1 in /usr/local/lib/python3.10/dist-packages (from requests[socks]->gdown) (2.0.7)\n",
            "Requirement already satisfied: certifi>=2017.4.17 in /usr/local/lib/python3.10/dist-packages (from requests[socks]->gdown) (2024.2.2)\n",
            "Requirement already satisfied: PySocks!=1.5.7,>=1.5.6 in /usr/local/lib/python3.10/dist-packages (from requests[socks]->gdown) (1.7.1)\n",
            "Downloading...\n",
            "From (original): https://drive.google.com/uc?id=1ig2ngoXFTxP5Pa8muXo02mDTFexZzsis\n",
            "From (redirected): https://drive.google.com/uc?id=1ig2ngoXFTxP5Pa8muXo02mDTFexZzsis&confirm=t&uuid=d3d43652-a77c-4ac3-916e-681af7528e84\n",
            "To: /content/archivo.zip\n",
            "100% 60.4M/60.4M [00:00<00:00, 76.1MB/s]\n",
            "Archive:  archivo.zip\n",
            "  inflating: ./farmers-protest-tweets-2021-2-4.json  \n"
          ]
        }
      ]
    },
    {
      "cell_type": "markdown",
      "source": [
        "## Implementación de la función Q1 Time"
      ],
      "metadata": {
        "id": "LsjvuA5uLxXp"
      }
    },
    {
      "cell_type": "code",
      "source": [
        "import json\n",
        "from collections import defaultdict, Counter\n",
        "from datetime import datetime\n",
        "from typing import List, Tuple, Optional\n",
        "\n",
        "def map_function(line: str) -> Optional[Tuple[datetime.date, str]]:\n",
        "    try:\n",
        "        tweet = json.loads(line)\n",
        "        fecha = datetime.strptime(tweet['date'][:10], '%Y-%m-%d').date()\n",
        "        usuario = tweet['user']['username']\n",
        "        return fecha, usuario\n",
        "    except json.JSONDecodeError as e:\n",
        "        print(f\"Error decodificando JSON: {e}\")\n",
        "        return None\n",
        "\n",
        "def reduce_function(mapped_values: List[Tuple[datetime.date, str]]) -> List[Tuple[datetime.date, str]]:\n",
        "    tweets_por_fecha = defaultdict(list)\n",
        "    for value in mapped_values:\n",
        "        if value is not None:\n",
        "            fecha, usuario = value\n",
        "            tweets_por_fecha[fecha].append(usuario)\n",
        "\n",
        "    usuarios_top_por_fecha = []\n",
        "    for fecha, usuarios in tweets_por_fecha.items():\n",
        "        conteo_usuarios = Counter(usuarios)\n",
        "        usuario_top = conteo_usuarios.most_common(1)[0][0]\n",
        "        usuarios_top_por_fecha.append((fecha, usuario_top))\n",
        "\n",
        "    return sorted(usuarios_top_por_fecha, key=lambda x: len(tweets_por_fecha[x[0]]), reverse=True)[:10]\n",
        "\n",
        "def q1_time(file_path: str) -> List[Tuple[datetime.date, str]]:\n",
        "    mapped_values = []\n",
        "    with open(file_path, 'r', encoding='utf-8') as file:\n",
        "        for line in file:\n",
        "            result = map_function(line)\n",
        "            if result is not None:\n",
        "                mapped_values.append(result)\n",
        "\n",
        "    top_fechas = reduce_function(mapped_values)\n",
        "    return top_fechas\n",
        "\n",
        "archivo_json = './farmers-protest-tweets-2021-2-4.json'\n",
        "resultado = q1_time(archivo_json)\n",
        "print(resultado)"
      ],
      "metadata": {
        "colab": {
          "base_uri": "https://localhost:8080/"
        },
        "id": "_Mjh5-rUexsT",
        "outputId": "24961a94-3f97-40ae-cb5d-e7a1bd45b228"
      },
      "execution_count": 8,
      "outputs": [
        {
          "output_type": "stream",
          "name": "stdout",
          "text": [
            "[(datetime.date(2021, 2, 12), 'RanbirS00614606'), (datetime.date(2021, 2, 13), 'MaanDee08215437'), (datetime.date(2021, 2, 17), 'RaaJVinderkaur'), (datetime.date(2021, 2, 16), 'jot__b'), (datetime.date(2021, 2, 14), 'rebelpacifist'), (datetime.date(2021, 2, 18), 'neetuanjle_nitu'), (datetime.date(2021, 2, 15), 'jot__b'), (datetime.date(2021, 2, 20), 'MangalJ23056160'), (datetime.date(2021, 2, 23), 'Surrypuria'), (datetime.date(2021, 2, 19), 'Preetm91')]\n"
          ]
        }
      ]
    },
    {
      "cell_type": "markdown",
      "source": [
        "# Medición del consumo de memoria y tiempo de ejecución de la función Q1 Time\n"
      ],
      "metadata": {
        "id": "z_IuWaqvL8nx"
      }
    },
    {
      "cell_type": "markdown",
      "source": [
        "Resultado de medición expuesto por medio de un archivo jpg"
      ],
      "metadata": {
        "id": "8oX121XvMVVC"
      }
    },
    {
      "cell_type": "code",
      "source": [
        "import json\n",
        "from collections import defaultdict, Counter\n",
        "from datetime import datetime\n",
        "import cProfile, pstats\n",
        "from memory_profiler import memory_usage\n",
        "import matplotlib.pyplot as plt\n",
        "\n",
        "def map_function(line: str) -> Optional[Tuple[datetime.date, str]]:\n",
        "    try:\n",
        "        tweet = json.loads(line)\n",
        "        fecha = datetime.strptime(tweet['date'][:10], '%Y-%m-%d').date()\n",
        "        usuario = tweet['user']['username']\n",
        "        return fecha, usuario\n",
        "    except json.JSONDecodeError as e:\n",
        "        print(f\"Error decodificando JSON: {e}\")\n",
        "        return None\n",
        "\n",
        "def reduce_function(mapped_values: List[Tuple[datetime.date, str]]) -> List[Tuple[datetime.date, str]]:\n",
        "    tweets_por_fecha = defaultdict(list)\n",
        "    for value in mapped_values:\n",
        "        if value is not None:\n",
        "            fecha, usuario = value\n",
        "            tweets_por_fecha[fecha].append(usuario)\n",
        "\n",
        "    usuarios_top_por_fecha = []\n",
        "    for fecha, usuarios in tweets_por_fecha.items():\n",
        "        conteo_usuarios = Counter(usuarios)\n",
        "        usuario_top = conteo_usuarios.most_common(1)[0][0]\n",
        "        usuarios_top_por_fecha.append((fecha, usuario_top))\n",
        "\n",
        "    return sorted(usuarios_top_por_fecha, key=lambda x: len(tweets_por_fecha[x[0]]), reverse=True)[:10]\n",
        "\n",
        "def q1_time(file_path: str) -> List[Tuple[datetime.date, str]]:\n",
        "    mapped_values = []\n",
        "    with open(file_path, 'r', encoding='utf-8') as file:\n",
        "        for line in file:\n",
        "            result = map_function(line)\n",
        "            if result is not None:\n",
        "                mapped_values.append(result)\n",
        "\n",
        "    top_fechas = reduce_function(mapped_values)\n",
        "    return top_fechas\n",
        "\n",
        "\n",
        "def profile_memory_and_cpu():\n",
        "    archivo_json = './farmers-protest-tweets-2021-2-4.json'\n",
        "\n",
        "    # Profile de memoria\n",
        "    mem_usage = memory_usage((q1_time, (archivo_json,)), interval=0.1)\n",
        "\n",
        "    # Profile de tiempo de CPU\n",
        "    profiler = cProfile.Profile()\n",
        "    profiler.enable()\n",
        "    q1_time(archivo_json)\n",
        "    profiler.disable()\n",
        "    stats = pstats.Stats(profiler).sort_stats('cumtime')\n",
        "    stats.print_stats()\n",
        "\n",
        "    # Plot de uso de memoria y guardar en archivo .jpg\n",
        "    plt.figure(figsize=(10, 6))\n",
        "    plt.plot(mem_usage)\n",
        "    plt.title('Uso de memoria a lo largo del tiempo')\n",
        "    plt.xlabel('Tiempo (en intervalos de 0.1s)')\n",
        "    plt.ylabel('Memoria usada (MB)')\n",
        "    plt.savefig('q1_memory_resources_map_reduce.jpg')\n",
        "    plt.close()\n",
        "\n",
        "profile_memory_and_cpu()"
      ],
      "metadata": {
        "colab": {
          "base_uri": "https://localhost:8080/"
        },
        "id": "kT-jh9Y6HsQ3",
        "outputId": "fd820054-47f9-41e5-b11b-8bd083febff3"
      },
      "execution_count": 9,
      "outputs": [
        {
          "output_type": "stream",
          "name": "stdout",
          "text": [
            "         4561201 function calls in 9.322 seconds\n",
            "\n",
            "   Ordered by: cumulative time\n",
            "\n",
            "   ncalls  tottime  percall  cumtime  percall filename:lineno(function)\n",
            "        1    1.634    1.634    9.322    9.322 <ipython-input-9-7198e32df3b1>:33(q1_time)\n",
            "   117407    0.272    0.000    7.320    0.000 <ipython-input-9-7198e32df3b1>:8(map_function)\n",
            "   117407    0.193    0.000    4.506    0.000 /usr/lib/python3.10/json/__init__.py:299(loads)\n",
            "   117407    0.292    0.000    4.247    0.000 /usr/lib/python3.10/json/decoder.py:332(decode)\n",
            "   117407    3.755    0.000    3.755    0.000 /usr/lib/python3.10/json/decoder.py:343(raw_decode)\n",
            "   117407    0.108    0.000    2.520    0.000 {built-in method strptime}\n",
            "   117407    0.219    0.000    2.412    0.000 /usr/lib/python3.10/_strptime.py:565(_strptime_datetime)\n",
            "   117407    1.247    0.000    2.193    0.000 /usr/lib/python3.10/_strptime.py:309(_strptime)\n",
            "   117407    0.072    0.000    0.533    0.000 /usr/lib/python3.10/_strptime.py:26(_getlang)\n",
            "   117407    0.091    0.000    0.462    0.000 /usr/lib/python3.10/locale.py:587(getlocale)\n",
            "   117407    0.081    0.000    0.290    0.000 /usr/lib/python3.10/locale.py:479(_parse_localename)\n",
            "   352221    0.239    0.000    0.239    0.000 {method 'match' of 're.Pattern' objects}\n",
            "    49772    0.096    0.000    0.224    0.000 /usr/lib/python3.10/codecs.py:319(decode)\n",
            "   117407    0.157    0.000    0.209    0.000 /usr/lib/python3.10/locale.py:396(normalize)\n",
            "    49772    0.128    0.000    0.128    0.000 {built-in method _codecs.utf_8_decode}\n",
            "        1    0.074    0.074    0.125    0.125 <ipython-input-9-7198e32df3b1>:18(reduce_function)\n",
            "   117407    0.080    0.000    0.080    0.000 {built-in method _locale.setlocale}\n",
            "   352221    0.073    0.000    0.073    0.000 {method 'get' of 'dict' objects}\n",
            "   117407    0.064    0.000    0.064    0.000 {method 'groupdict' of 're.Match' objects}\n",
            "   352234    0.062    0.000    0.062    0.000 {built-in method builtins.len}\n",
            "   352221    0.058    0.000    0.058    0.000 {method 'end' of 're.Match' objects}\n",
            "   352234    0.051    0.000    0.051    0.000 {built-in method builtins.isinstance}\n",
            "   117407    0.045    0.000    0.045    0.000 {method 'startswith' of 'str' objects}\n",
            "   234814    0.038    0.000    0.038    0.000 {method 'toordinal' of 'datetime.date' objects}\n",
            "   234827    0.036    0.000    0.036    0.000 {method 'append' of 'list' objects}\n",
            "   117407    0.031    0.000    0.031    0.000 {method 'keys' of 'dict' objects}\n",
            "   117407    0.026    0.000    0.026    0.000 {method '__exit__' of '_thread.lock' objects}\n",
            "       13    0.000    0.000    0.025    0.002 /usr/lib/python3.10/collections/__init__.py:565(__init__)\n",
            "       13    0.000    0.000    0.025    0.002 /usr/lib/python3.10/collections/__init__.py:640(update)\n",
            "       13    0.025    0.002    0.025    0.002 {built-in method _collections._count_elements}\n",
            "   117407    0.023    0.000    0.023    0.000 {method 'lower' of 'str' objects}\n",
            "   117407    0.021    0.000    0.021    0.000 {method 'date' of 'datetime.datetime' objects}\n",
            "   117407    0.020    0.000    0.020    0.000 {method 'weekday' of 'datetime.date' objects}\n",
            "       13    0.000    0.000    0.010    0.001 /usr/lib/python3.10/collections/__init__.py:588(most_common)\n",
            "       13    0.001    0.000    0.010    0.001 /usr/lib/python3.10/heapq.py:521(nlargest)\n",
            "       13    0.008    0.001    0.008    0.001 {built-in method builtins.max}\n",
            "        1    0.000    0.000    0.000    0.000 {built-in method io.open}\n",
            "       13    0.000    0.000    0.000    0.000 /usr/lib/python3.10/abc.py:117(__instancecheck__)\n",
            "       13    0.000    0.000    0.000    0.000 {built-in method _abc._abc_instancecheck}\n",
            "        1    0.000    0.000    0.000    0.000 {built-in method builtins.sorted}\n",
            "        1    0.000    0.000    0.000    0.000 {method '__exit__' of '_io._IOBase' objects}\n",
            "       13    0.000    0.000    0.000    0.000 <ipython-input-9-7198e32df3b1>:31(<lambda>)\n",
            "       13    0.000    0.000    0.000    0.000 {built-in method builtins.iter}\n",
            "        1    0.000    0.000    0.000    0.000 /usr/lib/python3.10/codecs.py:309(__init__)\n",
            "       14    0.000    0.000    0.000    0.000 {method 'items' of 'dict' objects}\n",
            "        1    0.000    0.000    0.000    0.000 {method 'disable' of '_lsprof.Profiler' objects}\n",
            "        1    0.000    0.000    0.000    0.000 /usr/lib/python3.10/codecs.py:260(__init__)\n",
            "\n",
            "\n"
          ]
        }
      ]
    }
  ]
}